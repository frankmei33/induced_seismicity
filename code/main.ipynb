{
 "cells": [
  {
   "cell_type": "markdown",
   "metadata": {},
   "source": [
    "# Induced Seismicity\n",
    "\n",
    "**Fill me in!**"
   ]
  },
  {
   "cell_type": "code",
   "execution_count": null,
   "metadata": {
    "collapsed": true
   },
   "outputs": [],
   "source": [
    "# Put all scripts that should be loaded here\n",
    "%load simulate.py"
   ]
  },
  {
   "cell_type": "code",
   "execution_count": 10,
   "metadata": {
    "collapsed": true
   },
   "outputs": [],
   "source": [
    "# %load simulate.py\n",
    "import numpy as np\n",
    "\n",
    "def dot_normalized(ranks1, ranks2, lag=0, use_zeros=False):\n",
    "    \"\"\"\n",
    "    Shifts `ranks2` forward by `lag` number of entries.\n",
    "    Removes the tail ends of the rank vectors that fall off\n",
    "    after shifting. Then returns the dot product normalized\n",
    "    by the number of entries that were used in the dot.\n",
    "    For instance, suppose\n",
    "         ranks1  = [1, 2, 3, 4]\n",
    "         ranks2  = [4, 3, 2, 1]\n",
    "         lag     = 2.\n",
    "    After shifting and removing the fall off, we have\n",
    "         ranks1' = [3, 4]\n",
    "         ranks2' = [4, 3]\n",
    "    The normalized dot is (3 * 4 + 4 * 3) / 2.\n",
    "\n",
    "    Assumes that len(ranks1) == len(ranks2) and all ranks\n",
    "    are non-negative.\n",
    "\n",
    "    Args:\n",
    "        ranks1    (1D np.array) : Ranks for first dataset\n",
    "        ranks2    (1D np.array) : Ranks for second dataset\n",
    "        lag       (int)         : Number of entries to shift\n",
    "        use_zeros (bool)        : Use zeros in rank vectors\n",
    "                                  for normalizing\n",
    "    Returns:\n",
    "        Normalized dot product after shifting by `lag`\n",
    "    \"\"\"\n",
    "    assert len(ranks1) == len(ranks2), \\\n",
    "           \"Rank vectors are not the same length\"\n",
    "\n",
    "    # Count the number of entries that would be zeroed out\n",
    "    # in either vector\n",
    "    num_zeros = 0\n",
    "    if not use_zeros:\n",
    "        num_zeros = np.sum((ranks1 * ranks2) == 0)\n",
    "\n",
    "    # Pad rank vectors with zeros (from front w/ ranks1, \n",
    "    # from back w/ ranks2); equivalent to shifting\n",
    "    padded_ranks1 = np.append(ranks1, np.zeros(lag))\n",
    "    padded_ranks2 = np.insert(ranks2, 0, np.zeros(lag))\n",
    "\n",
    "    # Normalization constant\n",
    "    num_valid = float(len(ranks1) - lag - num_zeros)\n",
    "\n",
    "    return np.dot(padded_ranks1, padded_ranks2) / num_valid\n",
    "\n",
    "def largest_dot_normalized(ranks1, ranks2, min_lag=0, max_lag=12, use_zeros=False):\n",
    "    \"\"\"\n",
    "    Returns the largest normalized dot product of the two rank vectors\n",
    "    across all possible lags specified by `min_lag` and `max_lag`. \n",
    "    Inclusive of both `min_lag` and `max_lag`.\n",
    "    \"\"\"\n",
    "    dots = [dot_normalized(ranks1, ranks2, lag, use_zeros) \\\n",
    "                for lag in range(min_lag, max_lag + 1)]\n",
    "    return np.amax(dots)\n",
    "\n",
    "def simulate(ranks1, ranks2, num_trials=10000, min_lag=0, max_lag=12, use_zeros=False):\n",
    "    \"\"\"\n",
    "    Given two rank vectors, repeatedly permutes ranks and gets \n",
    "    the largest normalized dot product. Return all simulated values.\n",
    "    \"\"\"\n",
    "    # Used to simulate a single trial. The input is not used\n",
    "    def simulate_single_trial(_):\n",
    "        np.random.shuffle(ranks1)\n",
    "        return largest_dot_normalized(ranks1, ranks2, min_lag, max_lag, use_zeros)\n",
    "    \n",
    "    # Make a copy for ranks1 because np.random.shuffle is in place\n",
    "    ranks1 = ranks1.copy()\n",
    "\n",
    "    return np.array(list(map(simulate_single_trial, range(num_trials))))\n"
   ]
  },
  {
   "cell_type": "code",
   "execution_count": 18,
   "metadata": {
    "collapsed": false
   },
   "outputs": [
    {
     "name": "stdout",
     "output_type": "stream",
     "text": [
      "CPU times: user 5.1 s, sys: 25.5 ms, total: 5.12 s\n",
      "Wall time: 5.15 s\n"
     ]
    }
   ],
   "source": [
    "%%time\n",
    "\n",
    "a = np.arange(1, 457)\n",
    "b = np.arange(1, 457)\n",
    "np.random.shuffle(b)\n",
    "og_b = b.copy()\n",
    "allsim = simulate(a, b)"
   ]
  },
  {
   "cell_type": "code",
   "execution_count": 27,
   "metadata": {
    "collapsed": false
   },
   "outputs": [
    {
     "data": {
      "image/png": "[encoded data removed]",
      "text/plain": [
       "<matplotlib.figure.Figure at 0x10f1d1f98>"
      ]
     },
     "metadata": {},
     "output_type": "display_data"
    }
   ],
   "source": [
    "import matplotlib.pyplot as plt\n",
    "\n",
    "og = largest_dot_normalized(a, b)\n",
    "plt.hist(allsim, bins = 'auto')\n",
    "plt.axvline(x = og, color = 'red')\n",
    "plt.show()"
   ]
  },
  {
   "cell_type": "code",
   "execution_count": 21,
   "metadata": {
    "collapsed": false
   },
   "outputs": [
    {
     "data": {
      "text/plain": [
       "69540.166666666672"
      ]
     },
     "execution_count": 21,
     "metadata": {},
     "output_type": "execute_result"
    }
   ],
   "source": [
    "np.dot(a, a) / 456."
   ]
  },
  {
   "cell_type": "code",
   "execution_count": 24,
   "metadata": {
    "collapsed": false
   },
   "outputs": [
    {
     "data": {
      "text/plain": [
       "34884.333333333336"
      ]
     },
     "execution_count": 24,
     "metadata": {},
     "output_type": "execute_result"
    }
   ],
   "source": [
    "np.dot(a, np.flip(a, axis=0)) / 456."
   ]
  },
  {
   "cell_type": "code",
   "execution_count": 48,
   "metadata": {
    "collapsed": false
   },
   "outputs": [
    {
     "data": {
      "image/png": "[encoded data removed]",
      "text/plain": [
       "<matplotlib.figure.Figure at 0x15115e3438>"
      ]
     },
     "metadata": {},
     "output_type": "display_data"
    }
   ],
   "source": [
    "t=np.arange(100)\n",
    "\n",
    "e1 = np.random.randn(100)\n",
    "\n",
    "water1 = 1000-0.03*(t-40)**2+20*e1\n",
    "\n",
    "plt.plot(water1)\n",
    "plt.show()\n",
    "\n",
    "def get_eq(water):\n",
    "    eq = np.array([np.random.poisson(np.exp(np.random.randn(1))*(0.0001+0.0005*water[i])) \n",
    "                   for i in range(len(water))])\n",
    "#     plt.plot(eq)\n",
    "#     plt.show()\n",
    "    return eq\n",
    "\n",
    "eq1=get_eq(water1)"
   ]
  },
  {
   "cell_type": "code",
   "execution_count": 42,
   "metadata": {
    "collapsed": false
   },
   "outputs": [],
   "source": [
    "from scipy.stats import rankdata\n",
    "\n",
    "eq_ranks = rankdata(eq1)\n",
    "water_ranks = rankdata(water1)"
   ]
  },
  {
   "cell_type": "code",
   "execution_count": 45,
   "metadata": {
    "collapsed": false
   },
   "outputs": [],
   "source": [
    "s = simulate(eq_ranks, water_ranks)"
   ]
  },
  {
   "cell_type": "code",
   "execution_count": 46,
   "metadata": {
    "collapsed": false
   },
   "outputs": [
    {
     "data": {
      "image/png": "[encoded data removed]",
      "text/plain": [
       "<matplotlib.figure.Figure at 0x10f932be0>"
      ]
     },
     "metadata": {},
     "output_type": "display_data"
    }
   ],
   "source": [
    "og = largest_dot_normalized(eq_ranks, water_ranks)\n",
    "plt.hist(s, bins = 'auto')\n",
    "plt.axvline(x = og, color = 'red')\n",
    "plt.show()"
   ]
  },
  {
   "cell_type": "code",
   "execution_count": 57,
   "metadata": {
    "collapsed": false
   },
   "outputs": [
    {
     "data": {
      "image/png": "[encoded data removed]",
      "text/plain": [
       "<matplotlib.figure.Figure at 0x1a1231f908>"
      ]
     },
     "metadata": {},
     "output_type": "display_data"
    }
   ],
   "source": [
    "t=np.arange(100)\n",
    "e1 = np.random.randn(100)\n",
    "water1 = 1000-0.03*(t-40)**2+20*e1\n",
    "eq1=get_eq(water1)\n",
    "\n",
    "eq_ranks = rankdata(eq1)\n",
    "water_ranks = rankdata(water1)\n",
    "s = simulate(eq_ranks, water_ranks)\n",
    "og = largest_dot_normalized(eq_ranks, water_ranks)\n",
    "plt.hist(s, bins = 'auto')\n",
    "plt.axvline(x = og, color = 'red')\n",
    "plt.show()"
   ]
  },
  {
   "cell_type": "code",
   "execution_count": null,
   "metadata": {
    "collapsed": true
   },
   "outputs": [],
   "source": []
  },
  {
   "cell_type": "code",
   "execution_count": null,
   "metadata": {
    "collapsed": true
   },
   "outputs": [],
   "source": []
  },
  {
   "cell_type": "code",
   "execution_count": null,
   "metadata": {
    "collapsed": true
   },
   "outputs": [],
   "source": []
  },
  {
   "cell_type": "code",
   "execution_count": null,
   "metadata": {
    "collapsed": true
   },
   "outputs": [],
   "source": []
  },
  {
   "cell_type": "code",
   "execution_count": null,
   "metadata": {
    "collapsed": true
   },
   "outputs": [],
   "source": []
  },
  {
   "cell_type": "code",
   "execution_count": null,
   "metadata": {
    "collapsed": true
   },
   "outputs": [],
   "source": []
  },
  {
   "cell_type": "code",
   "execution_count": null,
   "metadata": {
    "collapsed": true
   },
   "outputs": [],
   "source": []
  },
  {
   "cell_type": "code",
   "execution_count": null,
   "metadata": {
    "collapsed": true
   },
   "outputs": [],
   "source": []
  },
  {
   "cell_type": "code",
   "execution_count": null,
   "metadata": {
    "collapsed": true
   },
   "outputs": [],
   "source": []
  }
 ],
 "metadata": {
  "anaconda-cloud": {},
  "kernelspec": {
   "display_name": "Python [default]",
   "language": "python",
   "name": "python3"
  },
  "language_info": {
   "codemirror_mode": {
    "name": "ipython",
    "version": 3
   },
   "file_extension": ".py",
   "mimetype": "text/x-python",
   "name": "python",
   "nbconvert_exporter": "python",
   "pygments_lexer": "ipython3",
   "version": "3.5.2"
  }
 },
 "nbformat": 4,
 "nbformat_minor": 1
}
